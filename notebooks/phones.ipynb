{
 "cells": [
  {
   "cell_type": "code",
   "execution_count": 45,
   "metadata": {},
   "outputs": [],
   "source": [
    "import pandas as pd\n",
    "from tqdm import tqdm\n",
    "import random\n",
    "from  datetime import datetime\n",
    "import phonenumbers\n",
    "from clean_phone import clean_phone\n",
    "from clean_phone import _check_phone\n",
    "from clean_phone import validate_phone\n",
    "\n",
    "pd.set_option('display.max_rows', None)\n",
    "pd.set_option('display.max_columns', None)\n",
    "\n",
    "\n",
    "def extract_columns_from_ddl(table_ddl):\n",
    "    column_names = [line.split()[0] for line in table_ddl.strip().split('\\n')]\n",
    "    return  column_names\n",
    "\n",
    "def generate_dummy_data_df(n):\n",
    "    data = []\n",
    "    for _ in range(n):\n",
    "        data.append({\n",
    "            \"PARTY_PHONE_ID\": random.randint(1, 1000),\n",
    "            \"PARTY_ID\": random.randint(1, 1000),\n",
    "            \"COUNTRY_ID\": f'Country_{random.randint(1, 100)}',\n",
    "            \"PARTY_PHONE_TYPE_ID\": random.randint(1, 10),\n",
    "            \"PHONE_NUMBER\": f'{random.randint(100000, 999999)}',\n",
    "            \"PHONE_NUMBER_PREFIX\": f'+{random.randint(10, 99)}',\n",
    "            \"SRC_ID\": f'SRC_{random.randint(1, 100)}',\n",
    "            \"SRC_SYS_ID\": f'SYS_{random.randint(1, 100)}',\n",
    "            \"DEL_FLAG\": random.randint(0, 1),\n",
    "            \"INSERT_DATETIME\": datetime.now().date(),\n",
    "            \"INS_PROCESS_ID\": f'Process_{random.randint(1, 100)}',\n",
    "            \"UPDATE_DATETIME\":  pd.to_datetime('2024-01-05'),\n",
    "            \"UPD_PROCESS_ID\": f'Process_{random.randint(101, 200)}',\n",
    "            \"UPD_EFF_DATE\": datetime.now().date()\n",
    "        })\n",
    "    return pd.DataFrame(data)\n",
    "\n",
    "def MTCH_PT_PHONE_definition(table_ddl):\n",
    "\n",
    "    columns = extract_columns_from_ddl(table_ddl)\n",
    "    return pd.DataFrame(columns=columns)\n",
    "\n",
    "def insert_phones(df):\n",
    "    transformed_df = pd.DataFrame(\n",
    "        {\n",
    "        'PARTY_PHONE_ID': df['PARTY_PHONE_ID'],\n",
    "        'PARTY_ID': df['PARTY_ID'],\n",
    "        'COUNTRY_ID': df['COUNTRY_ID'],\n",
    "        'PARTY_PHONE_TYPE_ID': df['PARTY_PHONE_TYPE_ID'],\n",
    "        'PHONE_NUMBER': df['PHONE_NUMBER'],\n",
    "        'PHONE_NUMBER_PREFIX': df['PHONE_NUMBER_PREFIX'],\n",
    "        'SRC_ID': df['SRC_ID'],\n",
    "        'SRC_SYS_ID': df['SRC_SYS_ID'],\n",
    "        'DELETE_FLAG': df['DEL_FLAG'],\n",
    "        'INSERT_DATETIME': df['INSERT_DATETIME'],\n",
    "        'INSERT_PROCESS_ID': df['INS_PROCESS_ID'],\n",
    "        'UPDATE_DATETIME': df['UPDATE_DATETIME'],\n",
    "        'UPDATE_DATETIME_PROCESS_ID': df['UPD_PROCESS_ID'],\n",
    "        'UPDATE_DATETIME_EFFECTIVE_DATE': df['UPD_EFF_DATE']\n",
    "        }\n",
    "        \n",
    "    )\n",
    "    return transformed_df\n",
    "\n",
    "def validate_phone_number(number):\n",
    "    try:\n",
    "        parsed_number = phonenumbers.parse(str(number), None)\n",
    "        return phonenumbers.is_valid_number(parsed_number)\n",
    "    except phonenumbers.NumberParseException:\n",
    "        return False\n",
    "\n",
    "def unified_phone_id(df,column_for_unification,group_by_column, phone_key, result_column):\n",
    "    \"\"\"\n",
    "        df :  pd.DataFrame() with party phone numbers\n",
    "        column_for_unification :  column which contains valid phone numbers for unification\n",
    "        group_by_column :  key, based on which the data will be grouped \n",
    "        phone_key : primary key, which identifies the phone\n",
    "        result_column : name of the result column, where the result values will be added\n",
    "    \"\"\"\n",
    "\n",
    "    filtered_df = df[df[column_for_unification].notnull() & ~df[column_for_unification].isna()]\n",
    "    grouped_phones = filtered_df.groupby(group_by_column)[phone_key].apply(list)\n",
    "    df[result_column] = df[group_by_column].map(grouped_phones)\n",
    "    \n",
    "    return df\n",
    "\n",
    "def impute_null_phone_numbers(df, column, value):\n",
    "    for index, row in tqdm(df[df[column].isnull()].iterrows(),desc = \"Null value impute is running ...\"):\n",
    "        df.loc[index,column] = value\n",
    "    return df \n",
    "\n",
    "\n",
    "def list_to_string_transformation(df: pd.DataFrame, column: str):\n",
    "    for index, row in tqdm(df.iterrows(), desc=\"List transformation is running ...\"):\n",
    "        # Check if the entry is iterable (e.g., a list), if not, skip the iteration.\n",
    "        if not isinstance(row[column], list):\n",
    "            #print(f\"Non-iterable item at index {index}: {row['UNIFICATION_PARTY_PHONE_ID']}\")\n",
    "            continue\n",
    "        \n",
    "        resulted_string = \"\"\n",
    "        for val in row[column]:\n",
    "            # First method\n",
    "            values_as_string = [\"'{}'\".format(int(val)) for val in row[column]]\n",
    "            resulted_string = ', '.join(values_as_string)\n",
    "            df.loc[index, column]\n",
    "            \n",
    "            # Properly concatenate the string with each value.\n",
    "        df.loc[index, column] = resulted_string\n",
    "    return df\n",
    "\n"
   ]
  },
  {
   "cell_type": "markdown",
   "metadata": {},
   "source": [
    "## Table creation"
   ]
  },
  {
   "cell_type": "code",
   "execution_count": 16,
   "metadata": {},
   "outputs": [
    {
     "name": "stdout",
     "output_type": "stream",
     "text": [
      "(0, 13)\n",
      "(32029, 14)\n"
     ]
    }
   ],
   "source": [
    "ddl = \"\"\"\n",
    "    SORURCE_PHONE_PREFIX VARCHAR(255),\n",
    "    SORURCE_PHONE_NUMBER VARCHAR(255),\n",
    "    MATCHING_PHONE_NUMBER VARCHAR(255),\n",
    "    MASTER_PARTY_PHONE_ID INTEGER,\n",
    "    UNIFICATION_PARTY_PHONE_ID INTEGER,\n",
    "    SOURCE_IDENTIFIER VARCHAR(255),\n",
    "    SOURCE_SYSTEM_IDENTIFIER VARCHAR(255),\n",
    "    DELETE_FLAG INTEGER,\n",
    "    INSERT_DATETIME DATE,\n",
    "    INSERT_PROCESS_ID VARCHAR(255),\n",
    "    UPDATE_DATETIME DATE,\n",
    "    UPDATE_DATETIME_PROCESS_ID VARCHAR(255),\n",
    "    UPDATE_DATETIME_EFFECTIVE_DATE DATE\n",
    "\"\"\"\n",
    "MTCH_PT_PHONE = MTCH_PT_PHONE_definition(ddl)\n",
    "PARTY_PHONE = generate_dummy_data_df(32029)\n",
    "PARTY_PHONE = PARTY_PHONE.drop_duplicates()\n",
    "\n",
    "#Type correction\n",
    "MTCH_PT_PHONE['UPDATE_DATETIME'] = pd.to_datetime(MTCH_PT_PHONE['UPDATE_DATETIME'], errors='coerce')\n",
    "MTCH_PT_PHONE['INSERT_DATETIME'] = pd.to_datetime(MTCH_PT_PHONE['INSERT_DATETIME'], errors='coerce')\n",
    "\n",
    "print(MTCH_PT_PHONE.shape)\n",
    "print(PARTY_PHONE.shape)"
   ]
  },
  {
   "cell_type": "markdown",
   "metadata": {},
   "source": [
    "## MTCH table population\n",
    " - Insert not validated data "
   ]
  },
  {
   "cell_type": "code",
   "execution_count": 17,
   "metadata": {},
   "outputs": [
    {
     "name": "stdout",
     "output_type": "stream",
     "text": [
      "(0, 13)\n"
     ]
    },
    {
     "name": "stderr",
     "output_type": "stream",
     "text": [
      "Phone union: 32029it [00:02, 12145.56it/s]"
     ]
    },
    {
     "name": "stdout",
     "output_type": "stream",
     "text": [
      "(32029, 22)\n"
     ]
    },
    {
     "name": "stderr",
     "output_type": "stream",
     "text": [
      "\n"
     ]
    }
   ],
   "source": [
    "\n",
    "print(MTCH_PT_PHONE.shape)\n",
    "last_checked_date = pd.to_datetime('2024-01-10')\n",
    "filtered_MTCH_PT = PARTY_PHONE[PARTY_PHONE['UPDATE_DATETIME']<last_checked_date]\n",
    "MTCH_PT_PHONE = pd.concat([MTCH_PT_PHONE, insert_phones(filtered_MTCH_PT)], ignore_index=True)\n",
    "for index, row in tqdm(MTCH_PT_PHONE.iterrows(),desc = \"Phone union\"):\n",
    "     MTCH_PT_PHONE.loc[index,'MATCHING_PHONE_NUMBER_TMP'] = row['PHONE_NUMBER_PREFIX'] + row['PHONE_NUMBER']\n",
    "print(MTCH_PT_PHONE.shape)"
   ]
  },
  {
   "cell_type": "markdown",
   "metadata": {},
   "source": [
    "## 1 - First method using is_valid_number()"
   ]
  },
  {
   "cell_type": "code",
   "execution_count": 8,
   "metadata": {},
   "outputs": [
    {
     "name": "stdout",
     "output_type": "stream",
     "text": [
      "MATCHING_PHONE_NUMBER null value count  32029 \n",
      "\n"
     ]
    },
    {
     "name": "stderr",
     "output_type": "stream",
     "text": [
      "phonenumbers method is running ...: 32029it [00:08, 3868.17it/s]\n"
     ]
    },
    {
     "name": "stdout",
     "output_type": "stream",
     "text": [
      "\n",
      "\n",
      "MATCHING_PHONE_NUMBER null value count  31311\n",
      "\n",
      "\n",
      "UNIFICATION_PARTY_PHONE_ID null value count  32029\n",
      "\n",
      "\n",
      "UNIFICATION_PARTY_PHONE_ID null value count  15554\n",
      "\n",
      "\n"
     ]
    },
    {
     "name": "stderr",
     "output_type": "stream",
     "text": [
      "Null value impute is running ...: 31311it [00:06, 4818.64it/s]"
     ]
    },
    {
     "name": "stdout",
     "output_type": "stream",
     "text": [
      "MATCHING_PHONE_NUMBER null value count  31311\n"
     ]
    },
    {
     "name": "stderr",
     "output_type": "stream",
     "text": [
      "\n"
     ]
    }
   ],
   "source": [
    "# Get valid phones\n",
    "print(\"MATCHING_PHONE_NUMBER null value count \",MTCH_PT_PHONE.MATCHING_PHONE_NUMBER.isna().sum(),\"\\n\")\n",
    "\n",
    "for index, row in tqdm(MTCH_PT_PHONE.iterrows(), \"phonenumbers method is running ...\"):\n",
    "    # Assuming 'PHONE_NUMBER' is the actual phone number column\n",
    "    phone_number_str = row['PHONE_NUMBER_PREFIX'] + row['PHONE_NUMBER']\n",
    "    try:\n",
    "        phone_number = phonenumbers.parse(phone_number_str, None)\n",
    "        if phonenumbers.is_valid_number(phone_number):       \n",
    "            MTCH_PT_PHONE.loc[index, 'MATCHING_PHONE_NUMBER'] = phonenumbers.format_number(phone_number, phonenumbers.PhoneNumberFormat.INTERNATIONAL)   \n",
    "        else:\n",
    "            MTCH_PT_PHONE.loc[index, 'MATCHING_PHONE_NUMBER'] = None\n",
    "    except phonenumbers.NumberParseException:\n",
    "        MTCH_PT_PHONE.loc[index, 'MATCHING_PHONE_NUMBER'] = None\n",
    "print(\"\\n\")\n",
    "print(\"MATCHING_PHONE_NUMBER null value count \",MTCH_PT_PHONE.MATCHING_PHONE_NUMBER.isna().sum())\n",
    "print(\"\\n\")\n",
    "print(\"UNIFICATION_PARTY_PHONE_ID null value count \",MTCH_PT_PHONE['UNIFICATION_PARTY_PHONE_ID'].isna().sum())\n",
    "print(\"\\n\")\n",
    "MTCH_PT_PHONE = unified_phone_id(MTCH_PT_PHONE,'MATCHING_PHONE_NUMBER','PARTY_ID', 'PARTY_PHONE_ID', 'UNIFICATION_PARTY_PHONE_ID')\n",
    "print(\"UNIFICATION_PARTY_PHONE_ID null value count \",MTCH_PT_PHONE['UNIFICATION_PARTY_PHONE_ID'].isna().sum())\n",
    "print(\"\\n\")\n",
    "\n",
    "MTCH_PT_PHONE = impute_null_phone_numbers(MTCH_PT_PHONE,'MATCHING_PHONE_NUMBER',None)\n",
    "print(\"MATCHING_PHONE_NUMBER null value count \",MTCH_PT_PHONE.MATCHING_PHONE_NUMBER.isna().sum())\n",
    "\n",
    "\n",
    "# filtered_df = MTCH_PT_PHONE[MTCH_PT_PHONE['MATCHING_PHONE_NUMBER'].notnull()] # take only valid number\n",
    "# grouped_phones = filtered_df.groupby('PARTY_ID')['PARTY_PHONE_ID'].apply(list)\n",
    "# MTCH_PT_PHONE['UNIFICATION_PARTY_PHONE_ID'] = MTCH_PT_PHONE['PARTY_ID'].map(grouped_phones)\n",
    "\n",
    "    \n",
    "\n",
    "\n",
    "\n",
    "#MTCH_PT_PHONE[~MTCH_PT_PHONE.MATCHING_PHONE_NUMBER.isna()][['MATCHING_PHONE_NUMBER','PHONE_NUMBER_PREFIX', 'PHONE_NUMBER']]\n"
   ]
  },
  {
   "cell_type": "markdown",
   "metadata": {},
   "source": [
    "## Second option "
   ]
  },
  {
   "cell_type": "code",
   "execution_count": 18,
   "metadata": {},
   "outputs": [
    {
     "name": "stdout",
     "output_type": "stream",
     "text": [
      "MATCHING_PHONE_NUMBER null value count  32029 \n",
      "\n"
     ]
    },
    {
     "name": "stderr",
     "output_type": "stream",
     "text": [
      "validate_phone method is running ...: 32029it [00:07, 4358.03it/s]\n"
     ]
    },
    {
     "name": "stdout",
     "output_type": "stream",
     "text": [
      "MATCHING_PHONE_NUMBER null value count  28411 \n",
      "\n",
      "UNIFICATION_PARTY_PHONE_ID null value count  32029\n",
      "UNIFICATION_PARTY_PHONE_ID null value count  729\n"
     ]
    },
    {
     "name": "stderr",
     "output_type": "stream",
     "text": [
      "Null value impute is running ...: 28411it [00:05, 4941.85it/s]"
     ]
    },
    {
     "name": "stdout",
     "output_type": "stream",
     "text": [
      "MATCHING_PHONE_NUMBER null value count  28411 \n",
      "\n"
     ]
    },
    {
     "name": "stderr",
     "output_type": "stream",
     "text": [
      "\n"
     ]
    }
   ],
   "source": [
    "\n",
    "print(\"MATCHING_PHONE_NUMBER null value count \",MTCH_PT_PHONE.MATCHING_PHONE_NUMBER.isna().sum(),\"\\n\")\n",
    "\n",
    "#res = []\n",
    "for index, row in tqdm(MTCH_PT_PHONE.iterrows(), \"validate_phone method is running ...\"):\n",
    "    #res.append(_check_phone(row['MATCHING_PHONE_NUMBER_TMP'],False))\n",
    "    phone_number_str = row['PHONE_NUMBER_PREFIX'] + row['PHONE_NUMBER']\n",
    "    if validate_phone(phone_number_str):\n",
    "        MTCH_PT_PHONE.loc[index, 'MATCHING_PHONE_NUMBER'] = phonenumbers.format_number(phonenumbers.parse(phone_number_str, None), phonenumbers.PhoneNumberFormat.INTERNATIONAL)   \n",
    "    else:\n",
    "        MTCH_PT_PHONE.loc[index, 'MATCHING_PHONE_NUMBER'] = None \n",
    "\n",
    "print(\"MATCHING_PHONE_NUMBER null value count \",MTCH_PT_PHONE.MATCHING_PHONE_NUMBER.isna().sum(),\"\\n\")\n",
    "\n",
    "print(\"UNIFICATION_PARTY_PHONE_ID null value count \",MTCH_PT_PHONE['UNIFICATION_PARTY_PHONE_ID'].isna().sum())\n",
    "\n",
    "MTCH_PT_PHONE = unified_phone_id(df = MTCH_PT_PHONE,\n",
    "                                column_for_unification = 'MATCHING_PHONE_NUMBER',\n",
    "                                group_by_column = 'PARTY_ID',\n",
    "                                phone_key = 'PARTY_PHONE_ID',\n",
    "                                result_column =  'UNIFICATION_PARTY_PHONE_ID')\n",
    "\n",
    "print(\"UNIFICATION_PARTY_PHONE_ID null value count \",MTCH_PT_PHONE['UNIFICATION_PARTY_PHONE_ID'].isna().sum())\n",
    "\n",
    "MTCH_PT_PHONE = impute_null_phone_numbers(MTCH_PT_PHONE,'MATCHING_PHONE_NUMBER',None)\n",
    "print(\"MATCHING_PHONE_NUMBER null value count \",MTCH_PT_PHONE.MATCHING_PHONE_NUMBER.isna().sum(),\"\\n\")\n",
    "\n"
   ]
  },
  {
   "cell_type": "markdown",
   "metadata": {},
   "source": [
    "## List transform to store data in KBC"
   ]
  },
  {
   "cell_type": "code",
   "execution_count": null,
   "metadata": {},
   "outputs": [],
   "source": [
    "MTCH_PT_PHONE = list_to_string_transformation(MTCH_PT_PHONE,'UNIFICATION_PARTY_PHONE_ID' )"
   ]
  },
  {
   "cell_type": "markdown",
   "metadata": {},
   "source": [
    "## Add column to matching party table "
   ]
  },
  {
   "cell_type": "code",
   "execution_count": 60,
   "metadata": {},
   "outputs": [],
   "source": [
    "MTCH_PT = pd.read_csv('mtch_pt.csv')\n",
    "MTCH_PT = MTCH_PT.rename(columns={\"MATCHING_MFO\": \"UNIFICATION_PARTY_PHONE_ID\"})\n",
    "#merged_df = pd.merge(MTCH_PT, MTCH_PT_PHONE[['PARTY_ID', 'UNIFICATION_PARTY_PHONE_ID']], on='PARTY_ID', how='left')\n",
    "\n",
    "merged_df = pd.merge(MTCH_PT, \n",
    "                     MTCH_PT_PHONE[['PARTY_ID', 'UNIFICATION_PARTY_PHONE_ID']], \n",
    "                     on='PARTY_ID', \n",
    "                     how='left',\n",
    "                     suffixes=('', '_from_phone'))\n",
    "\n",
    "# Update UNIFICATION_PARTY_PHONE_ID in MTCH_PT with the values from MTCH_PT_PHONE\n",
    "MTCH_PT['UNIFICATION_PARTY_PHONE_ID'] = merged_df['UNIFICATION_PARTY_PHONE_ID_from_phone']"
   ]
  },
  {
   "cell_type": "markdown",
   "metadata": {},
   "source": [
    "### To csv and load in the next stage"
   ]
  },
  {
   "cell_type": "code",
   "execution_count": null,
   "metadata": {},
   "outputs": [],
   "source": [
    "MTCH_PT.to_csv('MTCH_PT_phones.csv')"
   ]
  },
  {
   "cell_type": "code",
   "execution_count": null,
   "metadata": {},
   "outputs": [],
   "source": [
    "id_list = list(MTCH_PT['PARTY_ID'].head(20))\n",
    "MTCH_PT_PHONE[MTCH_PT_PHONE['PARTY_ID'].isin(id_list)]"
   ]
  },
  {
   "cell_type": "code",
   "execution_count": null,
   "metadata": {},
   "outputs": [],
   "source": [
    "id_list = list(MTCH_PT['PARTY_ID'].head(20))\n",
    "print(MTCH_PT_PHONE)"
   ]
  },
  {
   "cell_type": "code",
   "execution_count": null,
   "metadata": {},
   "outputs": [],
   "source": [
    "MTCH_PT['UNIFICATION_PARTY_PHONE_ID'].head(100)\n",
    "MTCH_PT[['PARTY_ID', 'UNIFICATION_PARTY_PHONE_ID']]"
   ]
  },
  {
   "cell_type": "code",
   "execution_count": null,
   "metadata": {},
   "outputs": [],
   "source": [
    "merged_df.head(1000)\n",
    "MTCH_PT['UNIFICATION_PARTY_PHONE_ID'] = merged_df['UNIFICATION_PARTY_PHONE_ID']\n",
    "MTCH_PT.shape"
   ]
  },
  {
   "cell_type": "code",
   "execution_count": null,
   "metadata": {},
   "outputs": [],
   "source": []
  },
  {
   "cell_type": "code",
   "execution_count": null,
   "metadata": {},
   "outputs": [],
   "source": []
  },
  {
   "cell_type": "markdown",
   "metadata": {},
   "source": [
    "## Function testing "
   ]
  },
  {
   "cell_type": "code",
   "execution_count": null,
   "metadata": {},
   "outputs": [],
   "source": [
    "df_tmp = MTCH_PT_PHONE.copy()\n",
    "print(df_tmp['UNIFICATION_PARTY_PHONE_ID'].head(10))\n",
    "df_tmp = list_to_string_transformation(df_tmp,'UNIFICATION_PARTY_PHONE_ID' )\n",
    "\n",
    "print(df_tmp['UNIFICATION_PARTY_PHONE_ID'].head(100))\n",
    "\n",
    "\n",
    "\n",
    "\n",
    "for index, row in tqdm(df_tmp.iterrows(), desc=\"List transform is running ...\"):\n",
    "    # Check if the entry is iterable (e.g., a list), if not, skip the iteration.\n",
    "    if not isinstance(row['UNIFICATION_PARTY_PHONE_ID'], list):\n",
    "        #print(f\"Non-iterable item at index {index}: {row['UNIFICATION_PARTY_PHONE_ID']}\")\n",
    "        continue\n",
    "    \n",
    "    resulted_string = \"\"\n",
    "    for val in row['UNIFICATION_PARTY_PHONE_ID']:\n",
    "        # First method\n",
    "        values_as_string = [\"'{}'\".format(int(val)) for val in row['UNIFICATION_PARTY_PHONE_ID']]\n",
    "        resulted_string = ', '.join(values_as_string)\n",
    "        df_tmp.loc[index, 'UNIFICATION_PARTY_PHONE_ID']\n",
    "        \n",
    "        # Properly concatenate the string with each value.\n",
    "    df_tmp.loc[index, 'UNIFICATION_PARTY_PHONE_ID'] = resulted_string\n",
    "    "
   ]
  },
  {
   "cell_type": "markdown",
   "metadata": {},
   "source": [
    "### Mapping testing "
   ]
  },
  {
   "cell_type": "code",
   "execution_count": null,
   "metadata": {},
   "outputs": [],
   "source": [
    "\n",
    "# x = MTCH_PT_PHONE['PARTY_ID'].value_counts()\n",
    "# type(x)\n",
    "# df = pd.DataFrame({\n",
    "#     \"id\": list(set(MTCH_PT_PHONE['PARTY_ID'])),\n",
    "#     \"count\": x\n",
    "# })\n",
    "# df = df[df[\"count\"]>1]\n",
    "# df.shape\n",
    "\n",
    "# print(df[df[\"id\"]==399])\n",
    "# print(MTCH_PT_PHONE[MTCH_PT_PHONE.PARTY_ID == 399])\n",
    "\n",
    "# df_copy = MTCH_PT_PHONE.copy()\n",
    "# print(df_copy.shape)\n",
    "# df_copy = df_copy[df_copy[\"PARTY_ID\"].isin(df['id'])]\n",
    "# print(df_copy.shape)\n",
    "# grouped_phones_tmp = df_copy.groupby('PARTY_ID')['PARTY_PHONE_ID'].apply(list)\n",
    "# df_copy['UNIFICATION_PARTY_PHONE_ID'] = df_copy['PARTY_ID'].map(grouped_phones_tmp)\n",
    "\n",
    "# print(df_copy['UNIFICATION_PARTY_PHONE_ID'].head(200))\n",
    "\n",
    "# grouped_phones_tmp = MTCH_PT_PHONE[MTCH_PT_PHONE[\"PARTY_ID\"] in df['id']].groupby('PARTY_ID')['PARTY_PHONE_ID'].apply(list)\n",
    "# MTCH_PT_PHONE['UNIFICATION_PARTY_PHONE_ID'] = MTCH_PT_PHONE['PARTY_ID'].map(grouped_phones)\n",
    "# print(MTCH_PT_PHONE['UNIFICATION_PARTY_PHONE_ID'].head(200))"
   ]
  },
  {
   "cell_type": "code",
   "execution_count": 26,
   "metadata": {},
   "outputs": [
    {
     "name": "stdout",
     "output_type": "stream",
     "text": [
      "False    898\n",
      "True     102\n",
      "Name: isValid, dtype: int64\n"
     ]
    }
   ],
   "source": []
  },
  {
   "cell_type": "code",
   "execution_count": null,
   "metadata": {},
   "outputs": [],
   "source": [
    "MTCH_PT_PHONE[MTCH_PT_PHONE['isValid'] == False][['isValid','MATCHING_PHONE_NUMBER_TMP', 'PHONE_NUMBER_PREFIX', 'PHONE_NUMBER']].head(100)"
   ]
  },
  {
   "cell_type": "code",
   "execution_count": 31,
   "metadata": {},
   "outputs": [
    {
     "name": "stdout",
     "output_type": "stream",
     "text": [
      "isValid  102\n",
      "isMatched  30\n",
      "\n",
      " First group \n",
      "\n",
      "30\n",
      "\n",
      " Second group \n",
      "\n",
      "102\n"
     ]
    }
   ],
   "source": [
    "ind_list_isValid = []\n",
    "ind_list_isMatched = []\n",
    "for index, row in MTCH_PT_PHONE[MTCH_PT_PHONE['isValid'] == True].iterrows():\n",
    "    ind_list_isValid.append(index)\n",
    "print(\"isValid \",len(ind_list_isValid))\n",
    "for index, row in MTCH_PT_PHONE[~MTCH_PT_PHONE['MATCHING_PHONE_NUMBER'].isna()].iterrows():\n",
    "    ind_list_isMatched.append(index)\n",
    "print(\"isMatched \",len(ind_list_isMatched))\n",
    "print(\"\\n First group \\n\")\n",
    "l = 0\n",
    "for v in ind_list_isMatched:\n",
    "    if v not in ind_list_isValid:\n",
    "        #print(\"Index \", v, \" | \", \"Number \" , MTCH_PT_PHONE.loc[v, 'MATCHING_PHONE_NUMBER'], \" | \",\"isValid \",MTCH_PT_PHONE.loc[v, 'isValid'],\" | \", \"Check result \", validate_phone_number(row['PHONE_NUMBER_PREFIX'] + row['PHONE_NUMBER']))\n",
    "        l += 1\n",
    "print(l)\n",
    "print(\"\\n Second group \\n\")\n",
    "l = 0\n",
    "for v in ind_list_isValid:\n",
    "    \n",
    "    if v not in ind_list_isMatched:\n",
    "        #print(\"Index \", v, \" | \", \"Number \" , MTCH_PT_PHONE.loc[v, 'MATCHING_PHONE_NUMBER'], \" | \",\"isValid \",MTCH_PT_PHONE.loc[v, 'isValid'],\" | \", \"Check result \", validate_phone_number(row['PHONE_NUMBER_PREFIX'] + row['PHONE_NUMBER']))\n",
    "        l += 1\n",
    "print(l)\n"
   ]
  },
  {
   "cell_type": "markdown",
   "metadata": {},
   "source": [
    "## Testing"
   ]
  },
  {
   "cell_type": "code",
   "execution_count": 24,
   "metadata": {},
   "outputs": [
    {
     "name": "stdout",
     "output_type": "stream",
     "text": [
      "16\n",
      "1\n"
     ]
    }
   ],
   "source": [
    "import pandas as pd\n",
    "import numpy as np\n",
    "\n",
    "validation_list = [\n",
    "        \"555-234-5678\", \"(555) 234-5678\", \"555.234.5678\", \"555/234/5678\",\n",
    "        15551234567, \"(1) 555-234-5678\", \"+1 (234) 567-8901 x. 1234\",\n",
    "        \"2345678901 extension 1234\", \"2345678\", \"800-299-JUNK\", \"1-866-4ZIPCAR\",\n",
    "        \"123 ABC COMPANY\", \"+66 91 889 8948\", \"hello\", np.nan, \"NULL\"\n",
    "    ]\n",
    "phone_numbers = pd.DataFrame({\n",
    "    \"phone\": validation_list\n",
    "})\n",
    "phone_numbers\n",
    "res = []\n",
    "for n in phone_numbers:\n",
    "    try:\n",
    "        parsed_number = phonenumbers.parse(n, None)\n",
    "        res.append(phonenumbers.is_valid_number(parsed_number))\n",
    "    \n",
    "    except:\n",
    "         res.append(None)\n",
    "print(len(validation_list))\n",
    "print(len(res))\n",
    "# res_df = pd.DataFrame({\"phone\":validation_list, \"isValid\":res})\n",
    "# res_df"
   ]
  },
  {
   "cell_type": "code",
   "execution_count": 25,
   "metadata": {},
   "outputs": [
    {
     "name": "stdout",
     "output_type": "stream",
     "text": [
      "Error parsing number phone: (1) The string supplied did not seem to be a phone number.\n"
     ]
    }
   ],
   "source": [
    "\n",
    "for n in phone_numbers:\n",
    "    try:\n",
    "        parsed_number = phonenumbers.parse(n, None)  # Assuming no default region\n",
    "        print(phonenumbers.is_valid_number(parsed_number))\n",
    "    except phonenumbers.NumberParseException as e:\n",
    "        print(f\"Error parsing number {n}: {e}\")"
   ]
  },
  {
   "cell_type": "code",
   "execution_count": 26,
   "metadata": {},
   "outputs": [
    {
     "name": "stdout",
     "output_type": "stream",
     "text": [
      "{'555-234-5678': False, '(555) 234-5678': False, '555.234.5678': False, '555/234/5678': False, '15551234567': False, '(1) 555-234-5678': False, '+1 (234) 567-8901 x. 1234': True, '2345678901 extension 1234': False, '2345678': False, '800-299-JUNK': False, '1-866-4ZIPCAR': False, '123 ABC COMPANY': False, '+66 91 889 8948': True, 'hello': False, 'nan': False, 'NULL': False}\n"
     ]
    }
   ],
   "source": [
    "# Your phone numbers DataFrame\n",
    "validation_list = [\n",
    "    \"555-234-5678\", \"(555) 234-5678\", \"555.234.5678\", \"555/234/5678\",\n",
    "    15551234567, \"(1) 555-234-5678\", \"+1 (234) 567-8901 x. 1234\",\n",
    "    \"2345678901 extension 1234\", \"2345678\", \"800-299-JUNK\", \"1-866-4ZIPCAR\",\n",
    "    \"123 ABC COMPANY\", \"+66 91 889 8948\", \"hello\", np.nan, \"NULL\"\n",
    "]\n",
    "phone_numbers = pd.DataFrame({\n",
    "    \"phone\": validation_list\n",
    "})\n",
    "\n",
    "validity_results = {}\n",
    "\n",
    "for n in phone_numbers['phone']:\n",
    "    try:\n",
    "        # Convert number to string in case it's not already\n",
    "        n_str = str(n)\n",
    "        parsed_number = phonenumbers.parse(n_str, None)  # Replace None with a region code if you have one\n",
    "        is_valid = phonenumbers.is_valid_number(parsed_number)\n",
    "        validity_results[n_str] = is_valid\n",
    "    except phonenumbers.NumberParseException:\n",
    "        # This means the number couldn't be parsed and is invalid\n",
    "        validity_results[n_str] = False\n",
    "\n",
    "\n",
    "print(validity_results)"
   ]
  },
  {
   "cell_type": "code",
   "execution_count": 27,
   "metadata": {},
   "outputs": [
    {
     "name": "stdout",
     "output_type": "stream",
     "text": [
      "                        phone  is_valid\n",
      "0                555-234-5678     False\n",
      "1              (555) 234-5678     False\n",
      "2                555.234.5678     False\n",
      "3                555/234/5678     False\n",
      "4                 15551234567     False\n",
      "5            (1) 555-234-5678     False\n",
      "6   +1 (234) 567-8901 x. 1234      True\n",
      "7   2345678901 extension 1234     False\n",
      "8                     2345678     False\n",
      "9                800-299-JUNK     False\n",
      "10              1-866-4ZIPCAR     False\n",
      "11            123 ABC COMPANY     False\n",
      "12            +66 91 889 8948      True\n",
      "13                      hello     False\n",
      "14                        NaN     False\n",
      "15                       NULL     False\n"
     ]
    }
   ],
   "source": [
    "# Function to validate phone number\n",
    "def validate_phone_number(number):\n",
    "    try:\n",
    "        parsed_number = phonenumbers.parse(str(number), None)\n",
    "        return phonenumbers.is_valid_number(parsed_number)\n",
    "    except phonenumbers.NumberParseException:\n",
    "        return False\n",
    "\n",
    "# Applying validation to each phone number\n",
    "phone_numbers_df  = phone_numbers.copy()\n",
    "phone_numbers_df['is_valid'] = phone_numbers_df['phone'].apply(validate_phone_number)\n",
    "\n",
    "print(phone_numbers_df)"
   ]
  }
 ],
 "metadata": {
  "kernelspec": {
   "display_name": "Python 3",
   "language": "python",
   "name": "python3"
  },
  "language_info": {
   "codemirror_mode": {
    "name": "ipython",
    "version": 3
   },
   "file_extension": ".py",
   "mimetype": "text/x-python",
   "name": "python",
   "nbconvert_exporter": "python",
   "pygments_lexer": "ipython3",
   "version": "3.11.4"
  }
 },
 "nbformat": 4,
 "nbformat_minor": 2
}
