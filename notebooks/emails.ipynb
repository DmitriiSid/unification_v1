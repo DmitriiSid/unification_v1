{
 "cells": [
  {
   "cell_type": "markdown",
   "metadata": {},
   "source": [
    "# E-mails unification"
   ]
  },
  {
   "cell_type": "code",
   "execution_count": 44,
   "metadata": {},
   "outputs": [],
   "source": [
    "import pandas as pd\n",
    "from tqdm import tqdm\n",
    "import random\n",
    "from  datetime import datetime\n",
    "from pyisemail import is_email\n",
    "\n",
    "pd.set_option('display.max_rows', None)\n",
    "pd.set_option('display.max_columns', None)"
   ]
  },
  {
   "cell_type": "markdown",
   "metadata": {},
   "source": [
    "### Functions defenition"
   ]
  },
  {
   "cell_type": "code",
   "execution_count": 29,
   "metadata": {},
   "outputs": [
    {
     "name": "stdout",
     "output_type": "stream",
     "text": [
      "Larryeager@frontiernet.net\n"
     ]
    }
   ],
   "source": [
    "email_df = pd.read_csv(\"generated-emails-32000.csv\", header=0, names=['email'])\n",
    "email_df.shape[0]\n",
    "print(email_df[\"email\"][9998])"
   ]
  },
  {
   "cell_type": "code",
   "execution_count": 67,
   "metadata": {},
   "outputs": [],
   "source": [
    "def extract_columns_from_ddl(table_ddl):\n",
    "    column_names = [line.split()[0] for line in table_ddl.strip().split('\\n')]\n",
    "    return  column_names\n",
    "\n",
    "def generate_dummy_data_email_df(n):\n",
    "    data = []\n",
    "    max_index = email_df.shape[0]\n",
    "    i = 0\n",
    "    for _ in range(n):\n",
    "        if i == max_index - 2:\n",
    "            i = 0\n",
    "        data.append({\n",
    "            \"EMAIL_PARTY_ID\": random.randint(1, 1000),\n",
    "            \"PARTY_ID\": random.randint(1, 1000),\n",
    "            #\"COUNTRY_ID\": f'Country_{random.randint(1, 100)}',\n",
    "            \"EMAIL_PARTY_TYPE_ID\": random.randint(1, 10),\n",
    "            \"EMAIL\": email_df[\"email\"][i],\n",
    "            #\"EMAIL_NUMBER_PREFIX\": f'+{random.randint(10, 99)}',\n",
    "            \"SRC_ID\": f'SRC_{random.randint(1, 100)}',\n",
    "            \"SRC_SYS_ID\": f'SYS_{random.randint(1, 100)}',\n",
    "            \"DEL_FLAG\": random.randint(0, 1),\n",
    "            \"INSERT_DATETIME\": datetime.now().date(),\n",
    "            \"INS_PROCESS_ID\": f'Process_{random.randint(1, 100)}',\n",
    "            \"UPDATE_DATETIME\":  pd.to_datetime('2024-01-05'),\n",
    "            \"UPD_PROCESS_ID\": f'Process_{random.randint(101, 200)}',\n",
    "            \"UPD_EFF_DATE\": datetime.now().date()\n",
    "        })\n",
    "        i += 1\n",
    "    return pd.DataFrame(data)\n",
    "\n",
    "def MTCH_PT_EMAIL_definition(table_ddl):\n",
    "\n",
    "    columns = extract_columns_from_ddl(table_ddl)\n",
    "    return pd.DataFrame(columns=columns)\n",
    "\n",
    "def insert_emails(df : pd.DataFrame):\n",
    "    transformed_df = pd.DataFrame(\n",
    "        {\n",
    "        'EMAIL_PARTY_ID': df['EMAIL_PARTY_ID'],\n",
    "        'PARTY_ID': df['PARTY_ID'],\n",
    "        #'COUNTRY_ID': df['COUNTRY_ID'],\n",
    "        'EMAIL_PARTY_TYPE_ID': df['EMAIL_PARTY_TYPE_ID'],\n",
    "        'SOURCE_EMAIL': df['EMAIL'],\n",
    "        \n",
    "        'SRC_ID': df['SRC_ID'],\n",
    "        'SRC_SYS_ID': df['SRC_SYS_ID'],\n",
    "        'DELETE_FLAG': df['DEL_FLAG'],\n",
    "        'INSERT_DATETIME': df['INSERT_DATETIME'],\n",
    "        'INSERT_PROCESS_ID': df['INS_PROCESS_ID'],\n",
    "        'UPDATE_DATETIME': df['UPDATE_DATETIME'],\n",
    "        'UPDATE_DATETIME_PROCESS_ID': df['UPD_PROCESS_ID'],\n",
    "        'UPDATE_DATETIME_EFFECTIVE_DATE': df['UPD_EFF_DATE']\n",
    "        }\n",
    "        \n",
    "    )\n",
    "    return transformed_df\n",
    "\n",
    "\n",
    "def impute_null_values(df, column, value):\n",
    "    for index, row in tqdm(df[df[column].isnull()].iterrows(),desc = \"Null value impute is running ...\"):\n",
    "        df.loc[index,column] = value\n",
    "    return df \n",
    "\n",
    "def unify_email(df,column_for_unification,group_by_column, phone_key, result_column):\n",
    "    \"\"\"\n",
    "        df :  pd.DataFrame() with party email data\n",
    "        column_for_unification :  column which contains valid email for unification\n",
    "        group_by_column :  key, based on which the data will be grouped \n",
    "        phone_key : primary key, which identifies the email\n",
    "        result_column : name of the result column, where the result values will be added\n",
    "    \"\"\"\n",
    "\n",
    "    filtered_df = df[df[column_for_unification].notnull() & ~df[column_for_unification].isna()]\n",
    "    grouped_phones = filtered_df.groupby(group_by_column)[phone_key].apply(list)\n",
    "    df[result_column] = df[group_by_column].map(grouped_phones)\n",
    "    \n",
    "    return df\n",
    "\n",
    "\n",
    "def list_to_string_transformation(df: pd.DataFrame, column: str):\n",
    "    for index, row in tqdm(df.iterrows(), desc=\"List transformation is running ...\"):\n",
    "        # Check if the entry is iterable (e.g., a list), if not, skip the iteration.\n",
    "        if not isinstance(row[column], list):\n",
    "            #print(f\"Non-iterable item at index {index}: {row['UNIFICATION_PARTY_PHONE_ID']}\")\n",
    "            continue\n",
    "        \n",
    "        resulted_string = \"\"\n",
    "        for val in row[column]:\n",
    "            # First method\n",
    "            values_as_string = [\"'{}'\".format(int(val)) for val in row[column]]\n",
    "            resulted_string = ', '.join(values_as_string)\n",
    "            df.loc[index, column]\n",
    "            \n",
    "            # Properly concatenate the string with each value.\n",
    "        df.loc[index, column] = resulted_string\n",
    "    return df\n"
   ]
  },
  {
   "cell_type": "markdown",
   "metadata": {},
   "source": [
    "## Table creation"
   ]
  },
  {
   "cell_type": "code",
   "execution_count": 54,
   "metadata": {},
   "outputs": [
    {
     "name": "stdout",
     "output_type": "stream",
     "text": [
      "(32029, 12)\n",
      "(0, 12)\n",
      "(0, 12)\n",
      "(32029, 12)\n"
     ]
    },
    {
     "name": "stderr",
     "output_type": "stream",
     "text": [
      "EMAIL union: 32029it [00:10, 3193.74it/s]"
     ]
    },
    {
     "name": "stdout",
     "output_type": "stream",
     "text": [
      "(32029, 17)\n"
     ]
    },
    {
     "name": "stderr",
     "output_type": "stream",
     "text": [
      "\n"
     ]
    }
   ],
   "source": [
    "ddl = \"\"\"\n",
    "    SOURCE_EMAIL VARCHAR(255),\n",
    "    MATCHING_EMAIL VARCHAR(255),\n",
    "    MASTER_EMAIL_PARTY_ID INTEGER,\n",
    "    UNIFICATION_EMAIL_PARTY_ID INTEGER,\n",
    "    SOURCE_IDENTIFIER VARCHAR(255),\n",
    "    SOURCE_SYSTEM_IDENTIFIER VARCHAR(255),\n",
    "    DELETE_FLAG INTEGER,\n",
    "    INSERT_DATETIME DATE,\n",
    "    INSERT_PROCESS_ID VARCHAR(255),\n",
    "    UPDATE_DATETIME DATE,\n",
    "    UPDATE_DATETIME_PROCESS_ID VARCHAR(255),\n",
    "    UPDATE_DATETIME_EFFECTIVE_DATE DATE\n",
    "\"\"\"\n",
    "MTCH_PT_EMAIL = MTCH_PT_EMAIL_definition(ddl)\n",
    "EMAIL_PARTY = generate_dummy_data_email_df(32029)\n",
    "EMAIL_PARTY = EMAIL_PARTY.drop_duplicates()\n",
    "\n",
    "#Type correction\n",
    "MTCH_PT_EMAIL['UPDATE_DATETIME'] = pd.to_datetime(MTCH_PT_EMAIL['UPDATE_DATETIME'], errors='coerce')\n",
    "MTCH_PT_EMAIL['INSERT_DATETIME'] = pd.to_datetime(MTCH_PT_EMAIL['INSERT_DATETIME'], errors='coerce')\n",
    "\n",
    "print(EMAIL_PARTY.shape)\n",
    "print(MTCH_PT_EMAIL.shape)\n",
    "\n",
    "## MTCH table population\n",
    " #- Insert not validated data \n",
    "\n",
    "print(MTCH_PT_EMAIL.shape)\n",
    "last_checked_date = pd.to_datetime('2024-01-10')\n",
    "filtered_MTCH_PT = EMAIL_PARTY[EMAIL_PARTY['UPDATE_DATETIME']<last_checked_date]\n",
    "print(filtered_MTCH_PT.shape)\n",
    "MTCH_PT_EMAIL = pd.concat([MTCH_PT_EMAIL, insert_emails(filtered_MTCH_PT)], ignore_index=True)\n",
    "for index, row in tqdm(MTCH_PT_EMAIL.iterrows(),desc = \"EMAIL union\"):\n",
    "    MTCH_PT_EMAIL.loc[index,'SOURCE_EMAIL'] = row['SOURCE_EMAIL'].lower()\n",
    "print(MTCH_PT_EMAIL.shape)"
   ]
  },
  {
   "cell_type": "markdown",
   "metadata": {},
   "source": [
    "# Validation part\n",
    "- check whether the domain used in the email is a valid domain and whether or not it has a valid MX record:"
   ]
  },
  {
   "cell_type": "code",
   "execution_count": 65,
   "metadata": {},
   "outputs": [
    {
     "name": "stdout",
     "output_type": "stream",
     "text": [
      "True\n"
     ]
    }
   ],
   "source": [
    "\n",
    "address = \"murazoor@mail.ru\"\n",
    "bool_result_with_dns = is_email(address)\n",
    "#detailed_result_with_dns = is_email(address, check_dns=True, diagnose=True)\n",
    "\n",
    "print(bool_result_with_dns)\n",
    "#print(detailed_result_with_dns)"
   ]
  },
  {
   "cell_type": "code",
   "execution_count": 69,
   "metadata": {},
   "outputs": [
    {
     "name": "stdout",
     "output_type": "stream",
     "text": [
      "MATCHING_EMAIL null value count  0 \n",
      "\n"
     ]
    },
    {
     "name": "stderr",
     "output_type": "stream",
     "text": [
      "Email validation method is running ...: 32029it [00:20, 1595.90it/s]\n"
     ]
    },
    {
     "name": "stdout",
     "output_type": "stream",
     "text": [
      "\n",
      "\n",
      "MATCHING_EMAIL null value count  0\n",
      "\n",
      "\n",
      "UNIFICATION_PARTY_EMAIL_ID null value count  0\n",
      "\n",
      "\n",
      "UNIFICATION_PARTY_EMAIL_ID null value count  0\n",
      "\n",
      "\n"
     ]
    },
    {
     "name": "stderr",
     "output_type": "stream",
     "text": [
      "Null value impute is running ...: 0it [00:00, ?it/s]"
     ]
    },
    {
     "name": "stdout",
     "output_type": "stream",
     "text": [
      "MATCHING_EMAIL null value count  0\n"
     ]
    },
    {
     "name": "stderr",
     "output_type": "stream",
     "text": [
      "\n"
     ]
    }
   ],
   "source": [
    "print(\"MATCHING_EMAIL null value count \",MTCH_PT_EMAIL.MATCHING_EMAIL.isna().sum(),\"\\n\")\n",
    "\n",
    "for index, row in tqdm(MTCH_PT_EMAIL.iterrows(), \"Email validation method is running ...\",mininterval=1):\n",
    "    # Assuming 'EMAIL_NUMBER' is the actual phone number column\n",
    "    if is_email(row['SOURCE_EMAIL'], check_dns=False):       \n",
    "        MTCH_PT_EMAIL.loc[index, 'MATCHING_EMAIL'] = row['SOURCE_EMAIL']\n",
    "    else:\n",
    "        MTCH_PT_EMAIL.loc[index, 'MATCHING_EMAIL'] = None\n",
    "\n",
    "print(\"\\n\")\n",
    "print(\"MATCHING_EMAIL null value count \",MTCH_PT_EMAIL.MATCHING_EMAIL.isna().sum())\n",
    "print(\"\\n\")\n",
    "print(\"UNIFICATION_EMAIL_PARTY_ID null value count \",MTCH_PT_EMAIL['UNIFICATION_EMAIL_PARTY_ID'].isna().sum())\n",
    "print(\"\\n\")\n",
    "MTCH_PT_EMAIL = unify_email(MTCH_PT_EMAIL,'MATCHING_EMAIL','PARTY_ID', 'EMAIL_PARTY_ID', 'UNIFICATION_EMAIL_PARTY_ID')\n",
    "print(\"UNIFICATION_EMAIL_PARTY_ID null value count \",MTCH_PT_EMAIL['UNIFICATION_EMAIL_PARTY_ID'].isna().sum())\n",
    "print(\"\\n\")\n",
    "\n",
    "MTCH_PT_EMAIL = impute_null_values(MTCH_PT_EMAIL,'MATCHING_EMAIL',None)\n",
    "print(\"MATCHING_EMAIL null value count \",MTCH_PT_EMAIL.MATCHING_EMAIL.isna().sum())"
   ]
  },
  {
   "cell_type": "markdown",
   "metadata": {},
   "source": [
    "## List transform to store data in KBC"
   ]
  },
  {
   "cell_type": "code",
   "execution_count": null,
   "metadata": {},
   "outputs": [],
   "source": [
    "MTCH_PT_EMAIL = list_to_string_transformation(MTCH_PT_EMAIL,'UNIFICATION_EMAIL_PARTY_ID' )"
   ]
  },
  {
   "cell_type": "markdown",
   "metadata": {},
   "source": [
    "## Add column to matching party table "
   ]
  },
  {
   "cell_type": "code",
   "execution_count": 73,
   "metadata": {},
   "outputs": [],
   "source": [
    "MTCH_PT = pd.read_csv('mtch_pt.csv')\n",
    "MTCH_PT['UNIFICATION_EMAIL_PARTY_ID'] = None\n",
    "#MTCH_PT = MTCH_PT.rename(columns={\"MATCHING_MFO\": \"UNIFICATION_PARTY_PHONE_ID\"})\n",
    "#merged_df = pd.merge(MTCH_PT, MTCH_PT_PHONE[['PARTY_ID', 'UNIFICATION_PARTY_PHONE_ID']], on='PARTY_ID', how='left')\n",
    "\n",
    "merged_df = pd.merge(MTCH_PT, \n",
    "                     MTCH_PT_EMAIL[['PARTY_ID', 'UNIFICATION_EMAIL_PARTY_ID']], \n",
    "                     on='PARTY_ID', \n",
    "                     how='left',\n",
    "                     suffixes=('', '_from_email'))\n",
    "\n",
    "# Update UNIFICATION_PARTY_PHONE_ID in MTCH_PT with the values from MTCH_PT_PHONE\n",
    "MTCH_PT['UNIFICATION_EMAIL_PARTY_ID'] = merged_df['UNIFICATION_EMAIL_PARTY_ID_from_email']"
   ]
  },
  {
   "cell_type": "code",
   "execution_count": 74,
   "metadata": {},
   "outputs": [
    {
     "data": {
      "text/plain": [
       "0    [639.0, 949.0, 60.0, 722.0, 561.0, 419.0, 238....\n",
       "1    [639.0, 949.0, 60.0, 722.0, 561.0, 419.0, 238....\n",
       "2    [639.0, 949.0, 60.0, 722.0, 561.0, 419.0, 238....\n",
       "3    [639.0, 949.0, 60.0, 722.0, 561.0, 419.0, 238....\n",
       "4    [639.0, 949.0, 60.0, 722.0, 561.0, 419.0, 238....\n",
       "5    [639.0, 949.0, 60.0, 722.0, 561.0, 419.0, 238....\n",
       "6    [639.0, 949.0, 60.0, 722.0, 561.0, 419.0, 238....\n",
       "7    [639.0, 949.0, 60.0, 722.0, 561.0, 419.0, 238....\n",
       "8    [639.0, 949.0, 60.0, 722.0, 561.0, 419.0, 238....\n",
       "9    [639.0, 949.0, 60.0, 722.0, 561.0, 419.0, 238....\n",
       "Name: UNIFICATION_PARTY_EMAIL_ID, dtype: object"
      ]
     },
     "execution_count": 74,
     "metadata": {},
     "output_type": "execute_result"
    }
   ],
   "source": [
    "MTCH_PT.head(10)['UNIFICATION_EMAIL_PARTY_ID']"
   ]
  },
  {
   "cell_type": "code",
   "execution_count": null,
   "metadata": {},
   "outputs": [],
   "source": []
  }
 ],
 "metadata": {
  "kernelspec": {
   "display_name": "Python 3",
   "language": "python",
   "name": "python3"
  },
  "language_info": {
   "codemirror_mode": {
    "name": "ipython",
    "version": 3
   },
   "file_extension": ".py",
   "mimetype": "text/x-python",
   "name": "python",
   "nbconvert_exporter": "python",
   "pygments_lexer": "ipython3",
   "version": "3.11.3"
  }
 },
 "nbformat": 4,
 "nbformat_minor": 2
}
